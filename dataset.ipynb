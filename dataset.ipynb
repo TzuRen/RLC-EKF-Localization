{
 "cells": [
  {
   "cell_type": "code",
   "execution_count": null,
   "metadata": {
    "collapsed": true,
    "pycharm": {
     "is_executing": true
    }
   },
   "outputs": [],
   "source": [
    "import scipy.io\n",
    "import math\n",
    "import matplotlib.pyplot as plt\n",
    "import numpy as np\n",
    "import gym\n",
    "from gym import spaces, logger\n",
    "from gym.utils import seeding\n",
    "from scipy.stats import truncnorm\n",
    "import csv\n",
    "import matplotlib.pyplot as plt\n",
    "from itertools import cycle"
   ]
  },
  {
   "cell_type": "code",
   "execution_count": null,
   "metadata": {
    "collapsed": true
   },
   "outputs": [],
   "source": [
    "print ('******** Initialization Started ********')\n",
    "dataset_path = \"dataset/\"\n",
    "# path= dataset_path + \"Landmark_Groundtruth.mat\"\n",
    "path = dataset_path + \"MRCLAM.mat\"\n",
    "mat = scipy.io.loadmat(path)\n",
    "Landmark_Groundtruth = mat[\"Landmark_Groundtruth\"]\n",
    "Barcode = mat[\"Barcodes\"]\n",
    "robot_label = 1\n",
    "gt = mat[\"Robot\" + str(robot_label) + \"_Groundtruth\"]\n",
    "measurement = mat[\"Robot\" + str(robot_label) + \"_Measurement\"]\n",
    "odom = mat[\"Robot\"+ str(robot_label) +\"_Odometry\"]\n",
    "print('******** Finished loading ********')"
   ]
  },
  {
   "cell_type": "code",
   "execution_count": null,
   "metadata": {
    "collapsed": true
   },
   "outputs": [],
   "source": []
  }
 ],
 "metadata": {
  "kernelspec": {
   "name": "python3",
   "language": "python",
   "display_name": "Python 3"
  },
  "language_info": {
   "codemirror_mode": {
    "name": "ipython",
    "version": 2
   },
   "file_extension": ".py",
   "mimetype": "text/x-python",
   "name": "python",
   "nbconvert_exporter": "python",
   "pygments_lexer": "ipython2",
   "version": "2.7.6"
  },
  "latex_envs": {
   "LaTeX_envs_menu_present": true,
   "autoclose": false,
   "autocomplete": true,
   "bibliofile": "biblio.bib",
   "cite_by": "apalike",
   "current_citInitial": 1,
   "eqLabelWithNumbers": true,
   "eqNumInitial": 1,
   "hotkeys": {
    "equation": "Ctrl-E",
    "itemize": "Ctrl-I"
   },
   "labels_anchors": false,
   "latex_user_defs": false,
   "report_style_numbering": false,
   "user_envs_cfg": false
  }
 },
 "nbformat": 4,
 "nbformat_minor": 1
}